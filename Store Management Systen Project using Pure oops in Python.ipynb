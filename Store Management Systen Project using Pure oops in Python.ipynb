{
 "cells": [
  {
   "cell_type": "code",
   "execution_count": 3,
   "id": "cd58ae76-aa23-41dd-9966-a45c9baebeb4",
   "metadata": {},
   "outputs": [
    {
     "name": "stdout",
     "output_type": "stream",
     "text": [
      "<class 'int'>\n"
     ]
    }
   ],
   "source": [
    "item1 = 'Phone'\n",
    "item1_price = 100\n",
    "item1_quantity = 5\n",
    "item1_price_total = item1_price * item1_quantity\n",
    "print(type(item1_price_total))"
   ]
  },
  {
   "cell_type": "code",
   "execution_count": 1,
   "id": "a4e5bab3-98b3-42c6-978c-6a6e577dac96",
   "metadata": {},
   "outputs": [
    {
     "name": "stdout",
     "output_type": "stream",
     "text": [
      "500\n",
      "3000\n"
     ]
    }
   ],
   "source": [
    "class Item:\n",
    "    def calculate_total_price(self,x,y):\n",
    "        return x*y\n",
    "\n",
    "item1 = Item()\n",
    "item1.name = 'Phone'\n",
    "item1.price = 100\n",
    "item1.quantity = 5\n",
    "\n",
    "item2 = Item()\n",
    "item2.name = 'Laptop'\n",
    "item2.price = 1000\n",
    "item2.quantity = 3\n",
    "\n",
    "print(item1.calculate_total_price(item1.price,item1.quantity))\n",
    "print(item2.calculate_total_price(item2.price,item2.quantity))"
   ]
  },
  {
   "cell_type": "code",
   "execution_count": 16,
   "id": "b8296b77-c340-4614-a5db-7640557446f9",
   "metadata": {},
   "outputs": [
    {
     "name": "stdout",
     "output_type": "stream",
     "text": [
      "500\n",
      "3000\n"
     ]
    }
   ],
   "source": [
    "class Item:\n",
    "    def __init__(self,name,price,quantity):\n",
    "        self.name = name\n",
    "        self.price = price\n",
    "        self.quantity = quantity\n",
    "\n",
    "    def calculate_total_price(self):\n",
    "        return self.price * self.quantity\n",
    "\n",
    "item1 = Item('Phone',100,5)\n",
    "item2 = Item('Laptop',1000,3)\n",
    "\n",
    "print(item1.calculate_total_price())\n",
    "print(item2.calculate_total_price())"
   ]
  },
  {
   "cell_type": "code",
   "execution_count": 9,
   "id": "99384a8b-eff0-48f2-a05c-344d5e5ff3c0",
   "metadata": {},
   "outputs": [
    {
     "name": "stdout",
     "output_type": "stream",
     "text": [
      "500\n",
      "3000\n"
     ]
    }
   ],
   "source": [
    "class Item:\n",
    "    def __init__(self,name:str,price:float,quantity:int):\n",
    "        self.name = name\n",
    "        self.price = price\n",
    "        self.quantity = quantity\n",
    "\n",
    "    def calculate_total_price(self):\n",
    "        return self.price * self.quantity\n",
    "\n",
    "item1 = Item('Phone',100,5)\n",
    "item2 = Item('Laptop',1000,3)\n",
    "\n",
    "print(item1.calculate_total_price())\n",
    "print(item2.calculate_total_price())"
   ]
  },
  {
   "cell_type": "code",
   "execution_count": 1,
   "id": "4a266ca7-f465-406c-b39f-9b91902de622",
   "metadata": {},
   "outputs": [
    {
     "name": "stdout",
     "output_type": "stream",
     "text": [
      "500\n",
      "3000\n"
     ]
    }
   ],
   "source": [
    "#negative price or negative quantity\n",
    "class Item:\n",
    "    def __init__(self,name:str,price:float,quantity:int):\n",
    "        assert price >= 0, f\"Price {price} is not greater than or equal to zero\"\n",
    "        assert quantity >= 0, f\"Quantity {quantity} is not greater than or equal to zero\" \n",
    "        self.name = name\n",
    "        self.price = price\n",
    "        self.quantity = quantity\n",
    "    \n",
    "    def calculate_total_price(self):\n",
    "        return self.price * self.quantity\n",
    "\n",
    "item1 = Item('Phone',100,5)\n",
    "item2 = Item('Laptop',1000,3)\n",
    "\n",
    "print(item1.calculate_total_price())\n",
    "print(item2.calculate_total_price())"
   ]
  },
  {
   "cell_type": "code",
   "execution_count": 4,
   "id": "454fe45b-288c-4ce9-ab88-e40f9069c4c8",
   "metadata": {},
   "outputs": [
    {
     "name": "stdout",
     "output_type": "stream",
     "text": [
      "0.8\n",
      "0.8\n",
      "0.8\n",
      "{'__module__': '__main__', 'pay_rate': 0.8, '__init__': <function Item.__init__ at 0x0000027D9EB1F2E0>, 'calculate_total_price': <function Item.calculate_total_price at 0x0000027D9EB1F380>, '__dict__': <attribute '__dict__' of 'Item' objects>, '__weakref__': <attribute '__weakref__' of 'Item' objects>, '__doc__': None}\n",
      "{'name': 'Phone', 'price': 100, 'quantity': 5}\n",
      "{'name': 'Laptop', 'price': 1000, 'quantity': 3}\n"
     ]
    }
   ],
   "source": [
    "#negative price or negative quantity\n",
    "class Item:\n",
    "    pay_rate = 0.8\n",
    "    def __init__(self,name:str,price:float,quantity:int):\n",
    "        assert price >= 0, f\"Price {price} is not greater than or equal to zero\"\n",
    "        assert quantity >= 0, f\"Quantity {quantity} is not greater than or equal to zero\" \n",
    "        self.name = name\n",
    "        self.price = price\n",
    "        self.quantity = quantity\n",
    "    \n",
    "    def calculate_total_price(self):\n",
    "        return self.price * self.quantity\n",
    "\n",
    "item1 = Item('Phone',100,5)\n",
    "item2 = Item('Laptop',1000,3)\n",
    "\n",
    "\n",
    "print(Item.pay_rate)\n",
    "print(item1.pay_rate)\n",
    "print(item2.pay_rate)\n",
    "print(Item.__dict__)\n",
    "print(item1.__dict__)\n",
    "print(item2.__dict__)"
   ]
  },
  {
   "cell_type": "code",
   "execution_count": 19,
   "id": "37fe9244-43d0-4b09-aa28-9feae5ce1cfe",
   "metadata": {},
   "outputs": [
    {
     "name": "stdout",
     "output_type": "stream",
     "text": [
      "80.0\n",
      "700.0\n"
     ]
    }
   ],
   "source": [
    "class Item:\n",
    "    pay_rate = 0.8\n",
    "    def __init__(self,name:str,price:float,quantity=0):\n",
    "        assert price >= 0,f'Price {price} cannot be less than zero'\n",
    "        assert quantity >= 0,f'Quantity {quantity} cannot be less than zero'\n",
    "        self.name = name\n",
    "        self.price = price\n",
    "        self.quantity = quantity\n",
    "\n",
    "    def calculate_total_price(self):\n",
    "        return self.price * self.quantity\n",
    "\n",
    "    def apply_discount(self):\n",
    "        self.price = self.price * self.pay_rate\n",
    "\n",
    "item1 = Item('Phone',100,5)\n",
    "item1.apply_discount()\n",
    "print(item1.price)\n",
    "\n",
    "item2 = Item('Laptop',1000,3)\n",
    "item2.pay_rate = 0.7\n",
    "item2.apply_discount()\n",
    "print(item2.price)"
   ]
  },
  {
   "cell_type": "code",
   "execution_count": 1,
   "id": "0993f9a1-e677-49d1-9076-5bb35087c6aa",
   "metadata": {},
   "outputs": [
    {
     "name": "stdout",
     "output_type": "stream",
     "text": [
      "[<__main__.Item object at 0x0000023DFDA83BC0>, <__main__.Item object at 0x0000023DFDA83EC0>, <__main__.Item object at 0x0000023DFDA83E60>, <__main__.Item object at 0x0000023DFDA82990>, <__main__.Item object at 0x0000023DFDACAE70>]\n"
     ]
    }
   ],
   "source": [
    "class Item:\n",
    "    pay_rate = 0.8\n",
    "    all = []\n",
    "\n",
    "    def __init__(self,name:str,price:float,quantity = 0):\n",
    "        assert price >= 0,f'Price {price} is less than zero'\n",
    "        assert quantity >= 0,f'Quantity {quantity} is less than zero'\n",
    "        self.price = price\n",
    "        self.name = name\n",
    "        self.quantity = quantity\n",
    "\n",
    "        Item.all.append(self)\n",
    "\n",
    "    def calculate_total_price(self):\n",
    "        return self.price * self.quantity\n",
    "\n",
    "    def apply_discount(self):\n",
    "        self.price = self.price * self.pay_rate\n",
    "\n",
    "item1 = Item('Phone',100,5)\n",
    "item2 = Item('Laptop',1000,3)\n",
    "item3 = Item('Cable',10,5)\n",
    "item4 = Item('Mouse',50,5)\n",
    "item5 = Item('Keyboard',75,5)\n",
    "\n",
    "print(Item.all)\n",
    "# for instance in Item.all:\n",
    "#     print(instance.name)"
   ]
  },
  {
   "cell_type": "code",
   "execution_count": null,
   "id": "8789bc45-9f71-4c64-a9c5-146febb9bc47",
   "metadata": {},
   "outputs": [],
   "source": [
    "class Item:\n",
    "    pay_rate = 0.8\n",
    "    all = []\n",
    "\n",
    "    def __init__(self,name:str,price:float,quantity = 0):\n",
    "        assert price >= 0,f'Price {price} is less than zero'\n",
    "        assert quantity >= 0,f'Quantity {quantity} is less than zero'\n",
    "        self.price = price\n",
    "        self.name = name\n",
    "        self.quantity = quantity\n",
    "\n",
    "        Item.all.append(self)\n",
    "\n",
    "    def calculate_total_price(self):\n",
    "        return self.price * self.quantity\n",
    "\n",
    "    def apply_discount(self):\n",
    "        self.price = self.price * self.pay_rate\n",
    "\n",
    "    def __repr__(self):\n",
    "        return f\"Item ('{self.name}', {self.price}, {self.quantity})\"\n",
    "\n",
    "item1 = Item('Phone',100,5)\n",
    "item2 = Item('Laptop',1000,3)\n",
    "item3 = Item('Cable',10,5)\n",
    "item4 = Item('Mouse',50,5)\n",
    "item5 = Item('Keyboard',75,5)\n",
    "\n",
    "print(Item.all)\n",
    "#this is considered to be best Practice in Python Documentaton"
   ]
  },
  {
   "cell_type": "code",
   "execution_count": null,
   "id": "f5e903ca-4e31-40a9-bc8c-256add659338",
   "metadata": {},
   "outputs": [],
   "source": [
    "pip install csv"
   ]
  },
  {
   "cell_type": "code",
   "execution_count": 2,
   "id": "7460a3fc-5541-4371-b8ee-f8b915f4173f",
   "metadata": {},
   "outputs": [
    {
     "name": "stdout",
     "output_type": "stream",
     "text": [
      "[Item ('Phone', 100.0, 5), Item (''Laptop'', 1000.0, 3), Item (''Cable'', 10.0, 5), Item (''Mouse'', 50.0, 5), Item (''Keyboard'', 75.96, 5)]\n"
     ]
    }
   ],
   "source": [
    "#class_methods\n",
    "import csv\n",
    "\n",
    "\n",
    "class Item:\n",
    "    pay_rate = 0.8\n",
    "    all = []\n",
    "\n",
    "    def __init__(self, name: str, price: float, quantity=0):\n",
    "        assert price >= 0, f'Price {price} is less than zero'\n",
    "        assert quantity >= 0, f'Quantity {quantity} is less than zero'\n",
    "\n",
    "        self.price = price\n",
    "        self.name = name\n",
    "        self.quantity = quantity\n",
    "\n",
    "        Item.all.append(self)\n",
    "\n",
    "    def calculate_total_price(self):\n",
    "        return self.price * self.quantity\n",
    "\n",
    "    def apply_discount(self):\n",
    "        self.price = self.price * self.pay_rate\n",
    "\n",
    "    @classmethod\n",
    "    def instantiate_from_csv(cls):\n",
    "        with open('item.csv', 'r') as f:\n",
    "            reader = csv.DictReader(f)\n",
    "            items = list(reader)\n",
    "\n",
    "        for item in items:\n",
    "            Item(\n",
    "                name=item.get('name'),\n",
    "                price=float(item.get('price')),\n",
    "                quantity=int(item.get('quantity')),\n",
    "            )\n",
    "\n",
    "    def __repr__(self):\n",
    "        return f\"Item ('{self.name}', {self.price}, {self.quantity})\"\n",
    "\n",
    "\n",
    "Item.instantiate_from_csv()\n",
    "print(Item.all)"
   ]
  },
  {
   "cell_type": "code",
   "execution_count": 3,
   "id": "196072ef-4858-486e-aefb-ba7a6b0de2fe",
   "metadata": {},
   "outputs": [
    {
     "name": "stdout",
     "output_type": "stream",
     "text": [
      "False\n",
      "False\n",
      "True\n",
      "True\n"
     ]
    }
   ],
   "source": [
    "import csv\n",
    "\n",
    "\n",
    "class Item:\n",
    "    pay_rate = 0.8\n",
    "    all = []\n",
    "\n",
    "    def __init__(self, name: str, price: float, quantity=0):\n",
    "        assert price >= 0, f'Price {price} is less than zero'\n",
    "        assert quantity >= 0, f'Quantity {quantity} is less than zero'\n",
    "\n",
    "        self.price = price\n",
    "        self.name = name\n",
    "        self.quantity = quantity\n",
    "\n",
    "        Item.all.append(self)\n",
    "\n",
    "    def calculate_total_price(self):\n",
    "        return self.price * self.quantity\n",
    "\n",
    "    def apply_discount(self):\n",
    "        self.price = self.price * self.pay_rate\n",
    "\n",
    "    # @classmethod\n",
    "    # def instantiate_from_csv(cls):\n",
    "    #     with open('item.csv', 'r') as f:\n",
    "    #         reader = csv.DictReader(f)\n",
    "    #         items = list(reader)\n",
    "\n",
    "    #     for item in items:\n",
    "    #         Item(\n",
    "    #             name=item.get('name'),\n",
    "    #             price=float(item.get('price')),\n",
    "    #             quantity=int(item.get('quantity')),\n",
    "    #         )\n",
    "\n",
    "    @staticmethod\n",
    "    def is_integer(num):\n",
    "        # We wll count out the floats that are point zero\n",
    "        # For i.e.: 5.0, 10.0\n",
    "        if isinstance(num, float):\n",
    "            # Count out the floats that are point zero\n",
    "            return num.is_integer()\n",
    "        elif isinstance(num, int):\n",
    "            return True\n",
    "        else:\n",
    "            return False\n",
    " \n",
    "\n",
    "    def __repr__(self):\n",
    "        return f\"Item ('{self.name}', {self.price}, {self.quantity})\"\n",
    "\n",
    "\n",
    "print(Item.is_integer('2'))\n",
    "print(Item.is_integer(7.5))\n",
    "print(Item.is_integer(7))\n",
    "print(Item.is_integer(7.0))"
   ]
  },
  {
   "cell_type": "code",
   "execution_count": 8,
   "id": "359abef8-a249-450d-b696-aa08e97a0ef6",
   "metadata": {},
   "outputs": [
    {
     "name": "stdout",
     "output_type": "stream",
     "text": [
      "[Phone('jscPhone10', 500, 5)]\n",
      "[Phone('jscPhone10', 500, 5)]\n"
     ]
    }
   ],
   "source": [
    "#INHERITANCE\n",
    "import csv\n",
    "\n",
    "\n",
    "class Item:\n",
    "    pay_rate = 0.8\n",
    "    all = []\n",
    "\n",
    "    def __init__(self, name: str, price: float, quantity=0):\n",
    "        assert price >= 0, f'Price {price} is less than zero'\n",
    "        assert quantity >= 0, f'Quantity {quantity} is less than zero'\n",
    "\n",
    "        self.price = price\n",
    "        self.name = name\n",
    "        self.quantity = quantity\n",
    "\n",
    "        Item.all.append(self)\n",
    "\n",
    "    def calculate_total_price(self):\n",
    "        return self.price * self.quantity\n",
    "\n",
    "    def apply_discount(self):\n",
    "        self.price = self.price * self.pay_rate\n",
    "\n",
    "    @classmethod\n",
    "    def instantiate_from_csv(cls):\n",
    "        with open('item.csv', 'r') as f:\n",
    "            reader = csv.DictReader(f)\n",
    "            items = list(reader)\n",
    "\n",
    "        for item in items:\n",
    "            Item(\n",
    "                name=item.get('name'),\n",
    "                price=float(item.get('price')),\n",
    "                quantity=int(item.get('quantity')),\n",
    "            )\n",
    "\n",
    "    @staticmethod\n",
    "    def is_integer(num):\n",
    "        # We wll count out the floats that are point zero\n",
    "        # For i.e.: 5.0, 10.0\n",
    "        if isinstance(num, float):\n",
    "            # Count out the floats that are point zero\n",
    "            return num.is_integer()\n",
    "        elif isinstance(num, int):\n",
    "            return True\n",
    "        else:\n",
    "            return False\n",
    "\n",
    "    def __repr__(self):\n",
    "        return f\"{self.__class__.__name__}('{self.name}', {self.price}, {self.quantity})\"\n",
    "\n",
    "\n",
    "class Phone(Item):\n",
    "    def __init__(self, name: str, price: float, quantity=0, broken_phones=0):\n",
    "        super().__init__(\n",
    "            name, price, quantity\n",
    "        )\n",
    "\n",
    "        assert broken_phones >= 0, f'broken_phones {broken_phones} is less than zero'\n",
    "\n",
    "        self.broken_phones = broken_phones\n",
    "\n",
    "\n",
    "phone1 = Phone('jscPhone10', 500, 5, 1)\n",
    "\n",
    "print(Item.all)\n",
    "print(Phone.all)"
   ]
  },
  {
   "cell_type": "code",
   "execution_count": null,
   "id": "619d4c0b-776e-4315-9eed-17c7c8a999cb",
   "metadata": {},
   "outputs": [],
   "source": []
  }
 ],
 "metadata": {
  "kernelspec": {
   "display_name": "Python 3 (ipykernel)",
   "language": "python",
   "name": "python3"
  },
  "language_info": {
   "codemirror_mode": {
    "name": "ipython",
    "version": 3
   },
   "file_extension": ".py",
   "mimetype": "text/x-python",
   "name": "python",
   "nbconvert_exporter": "python",
   "pygments_lexer": "ipython3",
   "version": "3.12.1"
  }
 },
 "nbformat": 4,
 "nbformat_minor": 5
}
